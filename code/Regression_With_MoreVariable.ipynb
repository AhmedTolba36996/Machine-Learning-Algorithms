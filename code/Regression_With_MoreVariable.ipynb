{
  "nbformat": 4,
  "nbformat_minor": 0,
  "metadata": {
    "colab": {
      "name": "Regression_With_MoreVariable.ipynb",
      "provenance": [],
      "collapsed_sections": []
    },
    "kernelspec": {
      "name": "python3",
      "display_name": "Python 3"
    },
    "accelerator": "GPU"
  },
  "cells": [
    {
      "cell_type": "code",
      "metadata": {
        "id": "4ERuWslgertk"
      },
      "source": [
        "#import libraries\n",
        "import numpy as np\n",
        "import pandas as pd\n",
        "import matplotlib.pyplot as plt"
      ],
      "execution_count": 24,
      "outputs": []
    },
    {
      "cell_type": "code",
      "metadata": {
        "id": "pp1wKQfZe8X7"
      },
      "source": [
        "#Read Data\n",
        "path = '/content/data.txt'\n",
        "data = pd.read_csv(path, header=None, names=['Size', 'Bedrooms', 'Price'])"
      ],
      "execution_count": 25,
      "outputs": []
    },
    {
      "cell_type": "code",
      "metadata": {
        "id": "MxIx-INve8d1",
        "outputId": "8a5f7347-b47d-44b4-d23f-ff63f7b723b7",
        "colab": {
          "base_uri": "https://localhost:8080/"
        }
      },
      "source": [
        "#show data details\n",
        "print('data = \\n' ,data.head(5) )\n",
        "print('**************************************')\n",
        "print('data.describe = \\n',data.describe())\n",
        "print('**************************************')"
      ],
      "execution_count": 26,
      "outputs": [
        {
          "output_type": "stream",
          "text": [
            "data = \n",
            "    Size  Bedrooms   Price\n",
            "0  2104         3  399900\n",
            "1  1600         3  329900\n",
            "2  2400         3  369000\n",
            "3  1416         2  232000\n",
            "4  3000         4  539900\n",
            "**************************************\n",
            "data.describe = \n",
            "               Size   Bedrooms          Price\n",
            "count    47.000000  47.000000      47.000000\n",
            "mean   2000.680851   3.170213  340412.659574\n",
            "std     794.702354   0.760982  125039.899586\n",
            "min     852.000000   1.000000  169900.000000\n",
            "25%    1432.000000   3.000000  249900.000000\n",
            "50%    1888.000000   3.000000  299900.000000\n",
            "75%    2269.000000   4.000000  384450.000000\n",
            "max    4478.000000   5.000000  699900.000000\n",
            "**************************************\n"
          ],
          "name": "stdout"
        }
      ]
    },
    {
      "cell_type": "code",
      "metadata": {
        "id": "NHAMz4ANjOUI"
      },
      "source": [
        "# rescaling data\n",
        "data = (data - data.mean()) / data.std()"
      ],
      "execution_count": 27,
      "outputs": []
    },
    {
      "cell_type": "code",
      "metadata": {
        "id": "rw8lUZQ_jVMV",
        "outputId": "467d0614-cd18-4582-b87d-d16cc0a0851c",
        "colab": {
          "base_uri": "https://localhost:8080/"
        }
      },
      "source": [
        "print('data after normalization = ')\n",
        "print(data.head(2) )"
      ],
      "execution_count": 28,
      "outputs": [
        {
          "output_type": "stream",
          "text": [
            "data after normalization = \n",
            "      Size  Bedrooms     Price\n",
            "0  0.13001 -0.223675  0.475747\n",
            "1 -0.50419 -0.223675 -0.084074\n"
          ],
          "name": "stdout"
        }
      ]
    },
    {
      "cell_type": "code",
      "metadata": {
        "id": "Xx15Vf6pjxoW"
      },
      "source": [
        "# add ones column\n",
        "data.insert(0, 'Ones', 1)"
      ],
      "execution_count": 29,
      "outputs": []
    },
    {
      "cell_type": "code",
      "metadata": {
        "id": "46o6MN6oe8oX"
      },
      "source": [
        "# separate X (training data) from y (target variable)\n",
        "cols = data.shape[1] #shape express 97 to 2 then cols = 2 \n",
        "X = data.iloc[:,0:cols-1]\n",
        "y = data.iloc[:,cols-1:cols]"
      ],
      "execution_count": 30,
      "outputs": []
    },
    {
      "cell_type": "code",
      "metadata": {
        "id": "BXwytFxke8ud",
        "outputId": "8a481b80-cc07-4a3b-de0e-361c32f4668b",
        "colab": {
          "base_uri": "https://localhost:8080/"
        }
      },
      "source": [
        "# convert from data frames to numpy matrices\n",
        "X = np.matrix(X.values)\n",
        "y = np.matrix(y.values)\n",
        "theta = np.matrix(np.array([0,0,0]))\n",
        "\n",
        "print('X.shape = ' , X.shape)\n",
        "print('theta.shape = ' , theta.shape)\n",
        "print('y.shape = ' , y.shape)"
      ],
      "execution_count": 31,
      "outputs": [
        {
          "output_type": "stream",
          "text": [
            "X.shape =  (47, 3)\n",
            "theta.shape =  (1, 3)\n",
            "y.shape =  (47, 1)\n"
          ],
          "name": "stdout"
        }
      ]
    },
    {
      "cell_type": "code",
      "metadata": {
        "id": "Ru9WGMWSe8yR"
      },
      "source": [
        "# cost function\n",
        "def computeCost(X, y, theta):\n",
        "    z = np.power(  ((X * theta.T) - y)    , 2    )\n",
        "    return np.sum(z) / (2 * len(X))"
      ],
      "execution_count": 32,
      "outputs": []
    },
    {
      "cell_type": "code",
      "metadata": {
        "id": "MhxFhsFegDHv",
        "outputId": "8fb8907e-6816-408d-fa40-c361a17d1f3f",
        "colab": {
          "base_uri": "https://localhost:8080/"
        }
      },
      "source": [
        "print('computeCost(X, y, theta) = ' , computeCost(X, y, theta))"
      ],
      "execution_count": 33,
      "outputs": [
        {
          "output_type": "stream",
          "text": [
            "computeCost(X, y, theta) =  0.48936170212765967\n"
          ],
          "name": "stdout"
        }
      ]
    },
    {
      "cell_type": "code",
      "metadata": {
        "id": "BLCGg515gDT1"
      },
      "source": [
        "# GD function\n",
        "def gradientDescent(X, y, theta, alpha, iters):\n",
        "    \n",
        "    temp = np.matrix(np.zeros(theta.shape))\n",
        "    \n",
        "    #print('temp is : ' , temp)\n",
        "    parameters = int(theta.ravel().shape[1]) # 1 x 2 shape[1] express seconed value\n",
        "    \n",
        "    # print('parameter is : ' , parameters)\n",
        "    cost = np.zeros(iters)\n",
        "\n",
        "    for i in range(iters):\n",
        "        error = (X * theta.T) - y\n",
        "        \n",
        "        for j in range(parameters):\n",
        "            term = np.multiply(error, X[:,j])\n",
        "            \n",
        "            temp[0,j] = theta[0,j] - ((alpha / len(X)) * np.sum(term))\n",
        "            \n",
        "        theta = temp\n",
        "        cost[i] = computeCost(X, y, theta)\n",
        "        \n",
        "    return theta, cost"
      ],
      "execution_count": 34,
      "outputs": []
    },
    {
      "cell_type": "code",
      "metadata": {
        "id": "ptV_-3gwgDXG"
      },
      "source": [
        "# initialize variables for learning rate and iterations\n",
        "alpha = 0.01\n",
        "iters = 1000  #iters it is number of temps or trying"
      ],
      "execution_count": 35,
      "outputs": []
    },
    {
      "cell_type": "code",
      "metadata": {
        "id": "JOK_YKjqgDaG"
      },
      "source": [
        "Best_Theta, Loss_Function = gradientDescent(X, y, theta, alpha, iters)\n"
      ],
      "execution_count": 36,
      "outputs": []
    },
    {
      "cell_type": "code",
      "metadata": {
        "id": "ecqEcCCGgDdd",
        "outputId": "3f39e132-c62e-4371-8deb-434a6958cf97",
        "colab": {
          "base_uri": "https://localhost:8080/"
        }
      },
      "source": [
        "print('computeCost = ' , computeCost(X, y, Best_Theta))\n"
      ],
      "execution_count": 37,
      "outputs": [
        {
          "output_type": "stream",
          "text": [
            "computeCost =  0.13070336960771892\n"
          ],
          "name": "stdout"
        }
      ]
    },
    {
      "cell_type": "code",
      "metadata": {
        "id": "LQ5lMFHLe81r"
      },
      "source": [
        "# get best fit line for Size vs. Price\n",
        "\n",
        "x = np.linspace(data.Size.min(), data.Size.max(), 100)\n",
        "\n",
        "f = Best_Theta[0, 0] + (Best_Theta[0, 1] * x)\n"
      ],
      "execution_count": 38,
      "outputs": []
    },
    {
      "cell_type": "code",
      "metadata": {
        "id": "t3X6A7pke849",
        "outputId": "8a829803-b72b-4f66-bee9-84b65b9ff8bf",
        "colab": {
          "base_uri": "https://localhost:8080/",
          "height": 367
        }
      },
      "source": [
        "# draw the line for Size vs. Price\n",
        "\n",
        "fig, ax = plt.subplots(figsize=(5,5))\n",
        "ax.plot(x, f, 'r', label='Prediction')\n",
        "ax.scatter(data.Size, data.Price, label='Training Data')\n",
        "ax.legend(loc=2)\n",
        "ax.set_xlabel('Size')\n",
        "ax.set_ylabel('Price')\n",
        "ax.set_title('Size vs. Price')"
      ],
      "execution_count": 39,
      "outputs": [
        {
          "output_type": "execute_result",
          "data": {
            "text/plain": [
              "Text(0.5, 1.0, 'Size vs. Price')"
            ]
          },
          "metadata": {
            "tags": []
          },
          "execution_count": 39
        },
        {
          "output_type": "display_data",
          "data": {
            "image/png": "[encoded data removed]",
            "text/plain": [
              "<Figure size 360x360 with 1 Axes>"
            ]
          },
          "metadata": {
            "tags": [],
            "needs_background": "light"
          }
        }
      ]
    },
    {
      "cell_type": "code",
      "metadata": {
        "id": "xBpt_Jo-iReP"
      },
      "source": [
        "\n",
        "# get best fit line for Bedrooms vs. Price\n",
        "\n",
        "x = np.linspace(data.Bedrooms.min(), data.Bedrooms.max(), 100)\n",
        "\n",
        "f = Best_Theta[0, 0] + (Best_Theta[0, 1] * x)\n"
      ],
      "execution_count": 40,
      "outputs": []
    },
    {
      "cell_type": "code",
      "metadata": {
        "id": "nion6u0lkm5B",
        "outputId": "42d9995a-5b72-4600-d624-b443cf4af762",
        "colab": {
          "base_uri": "https://localhost:8080/",
          "height": 367
        }
      },
      "source": [
        "# draw the line  for Bedrooms vs. Price\n",
        "\n",
        "fig, ax = plt.subplots(figsize=(5,5))\n",
        "ax.plot(x, f, 'r', label='Prediction')\n",
        "ax.scatter(data.Bedrooms, data.Price, label='Traning Data')\n",
        "ax.legend(loc=2)\n",
        "ax.set_xlabel('Bedrooms')\n",
        "ax.set_ylabel('Price')\n",
        "ax.set_title('Size vs. Price')"
      ],
      "execution_count": 41,
      "outputs": [
        {
          "output_type": "execute_result",
          "data": {
            "text/plain": [
              "Text(0.5, 1.0, 'Size vs. Price')"
            ]
          },
          "metadata": {
            "tags": []
          },
          "execution_count": 41
        },
        {
          "output_type": "display_data",
          "data": {
            "image/png": "[encoded data removed]",
            "text/plain": [
              "<Figure size 360x360 with 1 Axes>"
            ]
          },
          "metadata": {
            "tags": [],
            "needs_background": "light"
          }
        }
      ]
    },
    {
      "cell_type": "code",
      "metadata": {
        "id": "hzC7br9XknDw",
        "outputId": "4c88d1ec-24fd-4a3c-d37e-2947f25e51f3",
        "colab": {
          "base_uri": "https://localhost:8080/",
          "height": 367
        }
      },
      "source": [
        "fig, ax = plt.subplots(figsize=(5,5))\n",
        "ax.plot(np.arange(iters), Loss_Function, 'r')\n",
        "ax.set_xlabel('Iterations')\n",
        "ax.set_ylabel('Cost')\n",
        "ax.set_title('Error vs. Training Epoch')"
      ],
      "execution_count": 42,
      "outputs": [
        {
          "output_type": "execute_result",
          "data": {
            "text/plain": [
              "Text(0.5, 1.0, 'Error vs. Training Epoch')"
            ]
          },
          "metadata": {
            "tags": []
          },
          "execution_count": 42
        },
        {
          "output_type": "display_data",
          "data": {
            "image/png": "[encoded data removed]",
            "text/plain": [
              "<Figure size 360x360 with 1 Axes>"
            ]
          },
          "metadata": {
            "tags": [],
            "needs_background": "light"
          }
        }
      ]
    }
  ]
}