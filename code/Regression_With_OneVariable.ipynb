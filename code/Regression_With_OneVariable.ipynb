{
  "nbformat": 4,
  "nbformat_minor": 0,
  "metadata": {
    "colab": {
      "name": "Regression_With_OneVariable.ipynb",
      "provenance": [],
      "collapsed_sections": []
    },
    "kernelspec": {
      "name": "python3",
      "display_name": "Python 3"
    },
    "accelerator": "GPU"
  },
  "cells": [
    {
      "cell_type": "code",
      "metadata": {
        "id": "4ERuWslgertk"
      },
      "source": [
        "#import libraries\n",
        "import numpy as np\n",
        "import pandas as pd\n",
        "import matplotlib.pyplot as plt"
      ],
      "execution_count": 1,
      "outputs": []
    },
    {
      "cell_type": "code",
      "metadata": {
        "id": "pp1wKQfZe8X7"
      },
      "source": [
        "#read data\n",
        "path  ='/content/data.txt'\n",
        "data = pd.read_csv(path, header=None, names=['Population', 'Profit'])"
      ],
      "execution_count": 2,
      "outputs": []
    },
    {
      "cell_type": "code",
      "metadata": {
        "id": "MxIx-INve8d1",
        "outputId": "4079b585-f132-423e-f88c-587183e9a7d1",
        "colab": {
          "base_uri": "https://localhost:8080/"
        }
      },
      "source": [
        "#show data details\n",
        "print('data = \\n' ,data.head(5) )\n",
        "print('**************************************')\n",
        "print('data.describe = \\n',data.describe())\n",
        "print('**************************************')"
      ],
      "execution_count": 3,
      "outputs": [
        {
          "output_type": "stream",
          "text": [
            "data = \n",
            "    Population   Profit\n",
            "0      6.1101  17.5920\n",
            "1      5.5277   9.1302\n",
            "2      8.5186  13.6620\n",
            "3      7.0032  11.8540\n",
            "4      5.8598   6.8233\n",
            "**************************************\n",
            "data.describe = \n",
            "        Population     Profit\n",
            "count   97.000000  97.000000\n",
            "mean     8.159800   5.839135\n",
            "std      3.869884   5.510262\n",
            "min      5.026900  -2.680700\n",
            "25%      5.707700   1.986900\n",
            "50%      6.589400   4.562300\n",
            "75%      8.578100   7.046700\n",
            "max     22.203000  24.147000\n",
            "**************************************\n"
          ],
          "name": "stdout"
        }
      ]
    },
    {
      "cell_type": "code",
      "metadata": {
        "id": "IWEU33eAe8hv",
        "outputId": "7ab07a54-60c7-4858-c137-8b29de1aa274",
        "colab": {
          "base_uri": "https://localhost:8080/",
          "height": 351
        }
      },
      "source": [
        "#draw data\n",
        "data.plot(kind='scatter', x='Population', y='Profit', figsize=(5,5))"
      ],
      "execution_count": 4,
      "outputs": [
        {
          "output_type": "execute_result",
          "data": {
            "text/plain": [
              "<matplotlib.axes._subplots.AxesSubplot at 0x7fc7e9b1e588>"
            ]
          },
          "metadata": {
            "tags": []
          },
          "execution_count": 4
        },
        {
          "output_type": "display_data",
          "data": {
            "image/png": "[encoded data removed]",
            "text/plain": [
              "<Figure size 360x360 with 1 Axes>"
            ]
          },
          "metadata": {
            "tags": [],
            "needs_background": "light"
          }
        }
      ]
    },
    {
      "cell_type": "code",
      "metadata": {
        "id": "xxEbCTQge8lQ",
        "outputId": "94167fc5-2c8f-4522-9936-c31db62556bb",
        "colab": {
          "base_uri": "https://localhost:8080/"
        }
      },
      "source": [
        "# adding a new column called ones before the data\n",
        "data.insert(0, 'Ones', 1)\n",
        "print('new data = \\n' ,data.head(2) )"
      ],
      "execution_count": 5,
      "outputs": [
        {
          "output_type": "stream",
          "text": [
            "new data = \n",
            "    Ones  Population   Profit\n",
            "0     1      6.1101  17.5920\n",
            "1     1      5.5277   9.1302\n"
          ],
          "name": "stdout"
        }
      ]
    },
    {
      "cell_type": "code",
      "metadata": {
        "id": "46o6MN6oe8oX"
      },
      "source": [
        "# separate X (training data) from y (target variable)\n",
        "cols = data.shape[1] #shape express 97 to 2 then cols = 2 \n",
        "X = data.iloc[:,0:cols-1]\n",
        "y = data.iloc[:,cols-1:cols]"
      ],
      "execution_count": 6,
      "outputs": []
    },
    {
      "cell_type": "code",
      "metadata": {
        "id": "BXwytFxke8ud",
        "outputId": "18365a98-8a22-452f-ec21-f19aa92ce9cc",
        "colab": {
          "base_uri": "https://localhost:8080/"
        }
      },
      "source": [
        "# convert from data frames to numpy matrices\n",
        "X = np.matrix(X.values)\n",
        "y = np.matrix(y.values)\n",
        "theta = np.matrix(np.array([0,0]))\n",
        "\n",
        "print('X.shape = ' , X.shape)\n",
        "print('theta.shape = ' , theta.shape)\n",
        "print('y.shape = ' , y.shape)"
      ],
      "execution_count": 7,
      "outputs": [
        {
          "output_type": "stream",
          "text": [
            "X.shape =  (97, 2)\n",
            "theta.shape =  (1, 2)\n",
            "y.shape =  (97, 1)\n"
          ],
          "name": "stdout"
        }
      ]
    },
    {
      "cell_type": "code",
      "metadata": {
        "id": "Ru9WGMWSe8yR"
      },
      "source": [
        "# cost function\n",
        "def computeCost(X, y, theta):\n",
        "    z = np.power(  ((X * theta.T) - y)    , 2    )\n",
        "    return np.sum(z) / (2 * len(X))"
      ],
      "execution_count": 8,
      "outputs": []
    },
    {
      "cell_type": "code",
      "metadata": {
        "id": "MhxFhsFegDHv",
        "outputId": "dc79aef8-e8d2-4ebe-f3b4-cd3aa43444b2",
        "colab": {
          "base_uri": "https://localhost:8080/"
        }
      },
      "source": [
        "print('computeCost(X, y, theta) = ' , computeCost(X, y, theta))"
      ],
      "execution_count": 9,
      "outputs": [
        {
          "output_type": "stream",
          "text": [
            "computeCost(X, y, theta) =  32.072733877455676\n"
          ],
          "name": "stdout"
        }
      ]
    },
    {
      "cell_type": "code",
      "metadata": {
        "id": "BLCGg515gDT1"
      },
      "source": [
        "# GD function\n",
        "def gradientDescent(X, y, theta, alpha, iters):\n",
        "    \n",
        "    temp = np.matrix(np.zeros(theta.shape))\n",
        "    \n",
        "    #print('temp is : ' , temp)\n",
        "    parameters = int(theta.ravel().shape[1]) # 1 x 2 shape[1] express seconed value\n",
        "    \n",
        "    # print('parameter is : ' , parameters)\n",
        "    cost = np.zeros(iters)\n",
        "\n",
        "    for i in range(iters):\n",
        "        error = (X * theta.T) - y\n",
        "        \n",
        "        for j in range(parameters):\n",
        "            term = np.multiply(error, X[:,j])\n",
        "            \n",
        "            temp[0,j] = theta[0,j] - ((alpha / len(X)) * np.sum(term))\n",
        "            \n",
        "        theta = temp\n",
        "        cost[i] = computeCost(X, y, theta)\n",
        "        \n",
        "    return theta, cost"
      ],
      "execution_count": 10,
      "outputs": []
    },
    {
      "cell_type": "code",
      "metadata": {
        "id": "ptV_-3gwgDXG"
      },
      "source": [
        "# initialize variables for learning rate and iterations\n",
        "alpha = 0.01\n",
        "iters = 1000  #iters it is number of temps or trying"
      ],
      "execution_count": 11,
      "outputs": []
    },
    {
      "cell_type": "code",
      "metadata": {
        "id": "JOK_YKjqgDaG"
      },
      "source": [
        "Best_Theta, Loss_Function = gradientDescent(X, y, theta, alpha, iters)\n"
      ],
      "execution_count": 12,
      "outputs": []
    },
    {
      "cell_type": "code",
      "metadata": {
        "id": "ecqEcCCGgDdd",
        "outputId": "1475d750-ee04-48c6-a785-b8c25ad88ffb",
        "colab": {
          "base_uri": "https://localhost:8080/"
        }
      },
      "source": [
        "print('computeCost = ' , computeCost(X, y, Best_Theta))\n"
      ],
      "execution_count": 13,
      "outputs": [
        {
          "output_type": "stream",
          "text": [
            "computeCost =  4.515955503078912\n"
          ],
          "name": "stdout"
        }
      ]
    },
    {
      "cell_type": "code",
      "metadata": {
        "id": "LQ5lMFHLe81r"
      },
      "source": [
        "# get best fit line\n",
        "x = np.linspace(data.Population.min(), data.Population.max(), 100)\n",
        "f = Best_Theta[0, 0] + (Best_Theta[0, 1] * x)"
      ],
      "execution_count": 14,
      "outputs": []
    },
    {
      "cell_type": "code",
      "metadata": {
        "id": "t3X6A7pke849",
        "outputId": "e13ee5d6-c7d1-4005-b9af-6c1b09416dfb",
        "colab": {
          "base_uri": "https://localhost:8080/",
          "height": 367
        }
      },
      "source": [
        "# draw the line\n",
        "\n",
        "fig, ax = plt.subplots(figsize=(5,5))\n",
        "ax.plot(x, f, 'r', label='Prediction')\n",
        "ax.scatter(data.Population, data.Profit, label='Traning Data')\n",
        "ax.legend(loc=2)\n",
        "ax.set_xlabel('Population')\n",
        "ax.set_ylabel('Profit')\n",
        "ax.set_title('Predicted Profit vs. Population Size')"
      ],
      "execution_count": 15,
      "outputs": [
        {
          "output_type": "execute_result",
          "data": {
            "text/plain": [
              "Text(0.5, 1.0, 'Predicted Profit vs. Population Size')"
            ]
          },
          "metadata": {
            "tags": []
          },
          "execution_count": 15
        },
        {
          "output_type": "display_data",
          "data": {
            "image/png": "[encoded data removed]",
            "text/plain": [
              "<Figure size 360x360 with 1 Axes>"
            ]
          },
          "metadata": {
            "tags": [],
            "needs_background": "light"
          }
        }
      ]
    },
    {
      "cell_type": "code",
      "metadata": {
        "id": "xBpt_Jo-iReP",
        "outputId": "98ac235b-426e-497b-cec1-609d7c11cf41",
        "colab": {
          "base_uri": "https://localhost:8080/",
          "height": 367
        }
      },
      "source": [
        "# draw error graph\n",
        "fig, ax = plt.subplots(figsize=(5,5))\n",
        "ax.plot(np.arange(iters), Loss_Function, 'r')\n",
        "ax.set_xlabel('Iterations')\n",
        "ax.set_ylabel('Cost')\n",
        "ax.set_title('Error vs. Training Epoch')"
      ],
      "execution_count": 17,
      "outputs": [
        {
          "output_type": "execute_result",
          "data": {
            "text/plain": [
              "Text(0.5, 1.0, 'Error vs. Training Epoch')"
            ]
          },
          "metadata": {
            "tags": []
          },
          "execution_count": 17
        },
        {
          "output_type": "display_data",
          "data": {
            "image/png": "[encoded data removed]",
            "text/plain": [
              "<Figure size 360x360 with 1 Axes>"
            ]
          },
          "metadata": {
            "tags": [],
            "needs_background": "light"
          }
        }
      ]
    }
  ]
}