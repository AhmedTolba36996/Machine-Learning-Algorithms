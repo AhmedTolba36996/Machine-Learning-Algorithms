{
  "nbformat": 4,
  "nbformat_minor": 0,
  "metadata": {
    "colab": {
      "name": "Classifcation3Regularization.ipynb",
      "provenance": [],
      "collapsed_sections": []
    },
    "kernelspec": {
      "name": "python3",
      "display_name": "Python 3"
    },
    "accelerator": "GPU"
  },
  "cells": [
    {
      "cell_type": "code",
      "metadata": {
        "id": "h16yh7FvqviY"
      },
      "source": [
        "import numpy as np\n",
        "from scipy.io import loadmat"
      ],
      "execution_count": 81,
      "outputs": []
    },
    {
      "cell_type": "code",
      "metadata": {
        "id": "hIHbjj9RqvlY"
      },
      "source": [
        "data = loadmat('/content/data.mat')\n"
      ],
      "execution_count": 82,
      "outputs": []
    },
    {
      "cell_type": "code",
      "metadata": {
        "id": "iND9INikqvoV",
        "outputId": "35b3a997-73b4-40ad-e5e9-d77bf4eaeffa",
        "colab": {
          "base_uri": "https://localhost:8080/"
        }
      },
      "source": [
        "#Data Consider That X , y \n",
        "\n",
        "print('X Shape = ' ,  data['X'].shape) \n",
        "print('Y Shape = ', data['y'].shape)\n"
      ],
      "execution_count": 84,
      "outputs": [
        {
          "output_type": "stream",
          "text": [
            "X Shape =  (5000, 400)\n",
            "Y Shape =  (5000, 1)\n"
          ],
          "name": "stdout"
        }
      ]
    },
    {
      "cell_type": "code",
      "metadata": {
        "id": "4ttOwXcoqvrF"
      },
      "source": [
        "def sigmoid(z):\n",
        "    return 1 / (1 + np.exp(-z))"
      ],
      "execution_count": 85,
      "outputs": []
    },
    {
      "cell_type": "code",
      "metadata": {
        "id": "p5tIn0BTqvuH"
      },
      "source": [
        "def cost(theta, X, y, learningRate):\n",
        "    theta = np.matrix(theta)\n",
        "    X = np.matrix(X)\n",
        "    y = np.matrix(y)\n",
        "    first = np.multiply(-y, np.log(sigmoid(X * theta.T)))\n",
        "    second = np.multiply((1 - y), np.log(1 - sigmoid(X * theta.T)))\n",
        "    reg = (learningRate / 2 * len(X)) * np.sum(np.power(theta[:,1:theta.shape[1]], 2))\n",
        "    return np.sum(first - second) / (len(X)) + reg\n",
        "\n"
      ],
      "execution_count": 86,
      "outputs": []
    },
    {
      "cell_type": "code",
      "metadata": {
        "id": "cpAVBlpRqvxe"
      },
      "source": [
        "def gradient_with_loop(theta, X, y, learningRate):\n",
        "    theta = np.matrix(theta)\n",
        "    X = np.matrix(X)\n",
        "    y = np.matrix(y)\n",
        "    \n",
        "    parameters = int(theta.ravel().shape[1])\n",
        "    grad = np.zeros(parameters)\n",
        "    \n",
        "    error = sigmoid(X * theta.T) - y\n",
        "    \n",
        "    for i in range(parameters):\n",
        "        term = np.multiply(error, X[:,i])\n",
        "        \n",
        "        if (i == 0):\n",
        "            grad[i] = np.sum(term) / len(X)\n",
        "        else:\n",
        "            grad[i] = (np.sum(term) / len(X)) + ((learningRate / len(X)) * theta[:,i])\n",
        "    \n",
        "    return grad"
      ],
      "execution_count": 87,
      "outputs": []
    },
    {
      "cell_type": "code",
      "metadata": {
        "id": "ovyKd3MGqv0g"
      },
      "source": [
        "def gradient(theta, X, y, learningRate):\n",
        "    theta = np.matrix(theta)\n",
        "    X = np.matrix(X)\n",
        "    y = np.matrix(y)\n",
        "    \n",
        "    parameters = int(theta.ravel().shape[1])\n",
        "    error = sigmoid(X * theta.T) - y\n",
        "    \n",
        "    grad = ((X.T * error) / len(X)).T + ((learningRate / len(X)) * theta)\n",
        "    \n",
        "    # intercept gradient is not regularized\n",
        "    grad[0, 0] = np.sum(np.multiply(error, X[:,0])) / len(X)\n",
        "    \n",
        "    return np.array(grad).ravel()\n"
      ],
      "execution_count": 88,
      "outputs": []
    },
    {
      "cell_type": "code",
      "metadata": {
        "id": "JB53jIM_qv6p"
      },
      "source": [
        "from scipy.optimize import minimize\n",
        "\n",
        "def one_vs_all(X, y, num_labels, learning_rate):\n",
        "    rows = X.shape[0] #5000\n",
        "    params = X.shape[1] #400\n",
        "    \n",
        "    # k X (n + 1) array for the parameters of each of the k classifiers\n",
        "    all_theta = np.zeros((num_labels, params + 1))\n",
        "    \n",
        "    print('all_theta shape ' , all_theta.shape)\n",
        "    # insert a column of ones at the beginning for the intercept term\n",
        "    X = np.insert(X, 0, values=np.ones(rows), axis=1)\n",
        "    print('X shape ' , X.shape)\n",
        "    \n",
        "    # labels are 1-indexed instead of 0-indexed\n",
        "    for i in range(1, num_labels + 1):\n",
        "        theta = np.zeros(params + 1)\n",
        "        y_i = np.array([1 if label == i else 0 for label in y])\n",
        "        y_i = np.reshape(y_i, (rows, 1))\n",
        "        \n",
        "        # minimize the objective function\n",
        "        fmin = minimize(fun=cost, x0=theta, args=(X, y_i, learning_rate), method='TNC', jac=gradient)\n",
        "        all_theta[i-1,:] = fmin.x\n",
        "    \n",
        "    return all_theta"
      ],
      "execution_count": 89,
      "outputs": []
    },
    {
      "cell_type": "code",
      "metadata": {
        "id": "WjIDbQiDqv9g",
        "outputId": "40f4712e-b3b9-4eef-b345-c61a8b804f63",
        "colab": {
          "base_uri": "https://localhost:8080/"
        }
      },
      "source": [
        "rows = data['X'].shape[0]\n",
        "params = data['X'].shape[1]\n",
        "\n",
        "print('rows = ' ,rows)\n",
        "print('params = ' , params)"
      ],
      "execution_count": 90,
      "outputs": [
        {
          "output_type": "stream",
          "text": [
            "rows =  5000\n",
            "params =  400\n"
          ],
          "name": "stdout"
        }
      ]
    },
    {
      "cell_type": "code",
      "metadata": {
        "id": "GBRK4f-HqwAY",
        "outputId": "c0472526-5273-4dec-be77-a8162cc39644",
        "colab": {
          "base_uri": "https://localhost:8080/"
        }
      },
      "source": [
        "all_theta = np.zeros((10, params + 1))\n",
        "\n",
        "print('all_theta shape \\n' , all_theta.shape)\n"
      ],
      "execution_count": 91,
      "outputs": [
        {
          "output_type": "stream",
          "text": [
            "all_theta shape \n",
            " (10, 401)\n"
          ],
          "name": "stdout"
        }
      ]
    },
    {
      "cell_type": "code",
      "metadata": {
        "id": "BvmLkC7nqwDf",
        "outputId": "58ded9bb-f8d1-4542-cab9-71108e72c594",
        "colab": {
          "base_uri": "https://localhost:8080/"
        }
      },
      "source": [
        "X = np.insert(data['X'], 0, values=np.ones(rows), axis=1)\n",
        "print('X Shape = ' ,  X.shape) \n"
      ],
      "execution_count": 92,
      "outputs": [
        {
          "output_type": "stream",
          "text": [
            "X Shape =  (5000, 401)\n"
          ],
          "name": "stdout"
        }
      ]
    },
    {
      "cell_type": "code",
      "metadata": {
        "id": "c-wfcSZqqwG0",
        "outputId": "26c21587-5986-4db0-e3f0-fdd2fa4d88cf",
        "colab": {
          "base_uri": "https://localhost:8080/"
        }
      },
      "source": [
        "theta = np.zeros(params + 1)\n",
        "\n",
        "print('theta Shape \\n' , theta.shape ) "
      ],
      "execution_count": 93,
      "outputs": [
        {
          "output_type": "stream",
          "text": [
            "theta Shape \n",
            " (401,)\n"
          ],
          "name": "stdout"
        }
      ]
    },
    {
      "cell_type": "code",
      "metadata": {
        "id": "pAAmUT8wqwJ_",
        "outputId": "b8b538f8-5e3e-422c-f00f-93385aec1a2d",
        "colab": {
          "base_uri": "https://localhost:8080/"
        }
      },
      "source": [
        "y_0 = np.array([1 if label == 0 else 0 for label in data['y']])\n",
        "\n",
        "print('y_0 shape')\n",
        "print(y_0.shape)\n",
        "\n"
      ],
      "execution_count": 94,
      "outputs": [
        {
          "output_type": "stream",
          "text": [
            "y_0 shape\n",
            "(5000,)\n"
          ],
          "name": "stdout"
        }
      ]
    },
    {
      "cell_type": "code",
      "metadata": {
        "id": "2Jb7GhIPqwNK",
        "outputId": "59613fc4-2682-4524-82e7-1472365cb0c6",
        "colab": {
          "base_uri": "https://localhost:8080/"
        }
      },
      "source": [
        "\n",
        "y_0 = np.reshape(y_0, (rows, 1))\n",
        "\n",
        "\n",
        "print('y_0')\n",
        "print(y_0.shape)\n",
        "print(y_0)"
      ],
      "execution_count": 95,
      "outputs": [
        {
          "output_type": "stream",
          "text": [
            "y_0\n",
            "(5000, 1)\n",
            "[[0]\n",
            " [0]\n",
            " [0]\n",
            " ...\n",
            " [0]\n",
            " [0]\n",
            " [0]]\n"
          ],
          "name": "stdout"
        }
      ]
    },
    {
      "cell_type": "code",
      "metadata": {
        "id": "7EXSpDryqwQf",
        "outputId": "858f28ee-6f66-4f93-c9e0-24f20e1f9b0b",
        "colab": {
          "base_uri": "https://localhost:8080/"
        }
      },
      "source": [
        "print('data array = ' , np.unique(data['y']))\n"
      ],
      "execution_count": 96,
      "outputs": [
        {
          "output_type": "stream",
          "text": [
            "data array =  [ 1  2  3  4  5  6  7  8  9 10]\n"
          ],
          "name": "stdout"
        }
      ]
    },
    {
      "cell_type": "code",
      "metadata": {
        "id": "kWhxJkEaqwUG",
        "outputId": "4fe29b9f-6d05-425b-ca2c-a418f154a4bc",
        "colab": {
          "base_uri": "https://localhost:8080/"
        }
      },
      "source": [
        "all_theta = one_vs_all(data['X'], data['y'], 1, 1)\n",
        "\n",
        "print('Theta shape =   ' , all_theta.shape)\n"
      ],
      "execution_count": 97,
      "outputs": [
        {
          "output_type": "stream",
          "text": [
            "all_theta shape  (1, 401)\n",
            "X shape  (5000, 401)\n",
            "Theta shape =    (1, 401)\n"
          ],
          "name": "stdout"
        }
      ]
    },
    {
      "cell_type": "code",
      "metadata": {
        "id": "YkY2A0R6qv4N"
      },
      "source": [
        "def predict_all(X, all_theta):\n",
        "    rows = X.shape[0]\n",
        "    params = X.shape[1]\n",
        "    num_labels = all_theta.shape[0]\n",
        "    \n",
        "    # same as before, insert ones to match the shape\n",
        "    X = np.insert(X, 0, values=np.ones(rows), axis=1)\n",
        "    \n",
        "    # convert to matrices\n",
        "    X = np.matrix(X)\n",
        "    all_theta = np.matrix(all_theta)\n",
        "    \n",
        "    # compute the class probability for each class on each training instance\n",
        "    h = sigmoid(X * all_theta.T)\n",
        "    \n",
        "    # create array of the index with the maximum probability\n",
        "    h_argmax = np.argmax(h, axis=1)\n",
        "    \n",
        "    # because our array was zero-indexed we need to add one for the true label prediction\n",
        "    h_argmax = h_argmax + 1\n",
        "    \n",
        "    return h_argmax"
      ],
      "execution_count": 98,
      "outputs": []
    },
    {
      "cell_type": "code",
      "metadata": {
        "id": "RgRZfBdzsg30",
        "outputId": "aa8407a7-4502-4ebc-f873-940c0fc715fe",
        "colab": {
          "base_uri": "https://localhost:8080/"
        }
      },
      "source": [
        "y_pred = predict_all(data['X'], all_theta)\n",
        "correct = [1 if a == b else 0 for (a, b) in zip(y_pred, data['y'])]\n",
        "accuracy = (sum(map(int, correct)) / float(len(correct)))\n",
        "print ('accuracy = {0}%'.format(accuracy * 100))\n"
      ],
      "execution_count": 99,
      "outputs": [
        {
          "output_type": "stream",
          "text": [
            "accuracy = 10.0%\n"
          ],
          "name": "stdout"
        }
      ]
    }
  ]
}