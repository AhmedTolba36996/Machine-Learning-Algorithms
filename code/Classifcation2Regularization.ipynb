{
  "nbformat": 4,
  "nbformat_minor": 0,
  "metadata": {
    "colab": {
      "name": "Classifcation2Regularization.ipynb",
      "provenance": [],
      "collapsed_sections": []
    },
    "kernelspec": {
      "name": "python3",
      "display_name": "Python 3"
    },
    "accelerator": "GPU"
  },
  "cells": [
    {
      "cell_type": "code",
      "metadata": {
        "id": "VV_vwH8FoTax"
      },
      "source": [
        "import numpy as np\n",
        "import pandas as pd\n",
        "import matplotlib.pyplot as plt\n",
        "import scipy.optimize as opt\n"
      ],
      "execution_count": 58,
      "outputs": []
    },
    {
      "cell_type": "code",
      "metadata": {
        "id": "Hu5dWQLOoTdy"
      },
      "source": [
        "path = '/content/data.txt'\n",
        "\n",
        "data = pd.read_csv(path, header=None, \n",
        "                   names=['Test 1', 'Test 2', 'Accepted'])\n"
      ],
      "execution_count": 59,
      "outputs": []
    },
    {
      "cell_type": "code",
      "metadata": {
        "id": "J1mVlegyoTgm",
        "outputId": "630578e3-11b7-44e9-dad3-d3f29f59fa59",
        "colab": {
          "base_uri": "https://localhost:8080/"
        }
      },
      "source": [
        "print('data = ')\n",
        "print(data.head(5) )\n",
        "print('................................................')\n",
        "print('data.describe = ')\n",
        "print(data.describe())"
      ],
      "execution_count": 60,
      "outputs": [
        {
          "output_type": "stream",
          "text": [
            "data = \n",
            "     Test 1   Test 2  Accepted\n",
            "0  0.051267  0.69956         1\n",
            "1 -0.092742  0.68494         1\n",
            "2 -0.213710  0.69225         1\n",
            "3 -0.375000  0.50219         1\n",
            "4 -0.513250  0.46564         1\n",
            "................................................\n",
            "data.describe = \n",
            "           Test 1      Test 2    Accepted\n",
            "count  118.000000  118.000000  118.000000\n",
            "mean     0.054779    0.183102    0.491525\n",
            "std      0.496654    0.519743    0.502060\n",
            "min     -0.830070   -0.769740    0.000000\n",
            "25%     -0.372120   -0.254385    0.000000\n",
            "50%     -0.006336    0.213455    0.000000\n",
            "75%      0.478970    0.646562    1.000000\n",
            "max      1.070900    1.108900    1.000000\n"
          ],
          "name": "stdout"
        }
      ]
    },
    {
      "cell_type": "code",
      "metadata": {
        "id": "uqQQEO-4oTjt"
      },
      "source": [
        "positive = data[data['Accepted'].isin([1])]\n",
        "negative = data[data['Accepted'].isin([0])]\n"
      ],
      "execution_count": 61,
      "outputs": []
    },
    {
      "cell_type": "code",
      "metadata": {
        "id": "AGyU4A3NoTms",
        "outputId": "7267950e-acac-4efe-adf5-d5035bee7225",
        "colab": {
          "base_uri": "https://localhost:8080/",
          "height": 351
        }
      },
      "source": [
        "fig, ax = plt.subplots(figsize=(5,5))\n",
        "ax.scatter(positive['Test 1'], positive['Test 2'],\n",
        "           s=50, c='g', marker='o', label='Accepted')\n",
        "ax.scatter(negative['Test 1'], negative['Test 2'],\n",
        "           s=50, c='r', marker='x', label='Rejected')\n",
        "ax.legend()\n",
        "ax.set_xlabel('Test 1 Score')\n",
        "ax.set_ylabel('Test 2 Score')"
      ],
      "execution_count": 62,
      "outputs": [
        {
          "output_type": "execute_result",
          "data": {
            "text/plain": [
              "Text(0, 0.5, 'Test 2 Score')"
            ]
          },
          "metadata": {
            "tags": []
          },
          "execution_count": 62
        },
        {
          "output_type": "display_data",
          "data": {
            "image/png": "[encoded data removed]",
            "text/plain": [
              "<Figure size 360x360 with 1 Axes>"
            ]
          },
          "metadata": {
            "tags": [],
            "needs_background": "light"
          }
        }
      ]
    },
    {
      "cell_type": "code",
      "metadata": {
        "id": "CreUmYQUoTp-"
      },
      "source": [
        "x1 = data['Test 1']\n",
        "x2 = data['Test 2']"
      ],
      "execution_count": 63,
      "outputs": []
    },
    {
      "cell_type": "code",
      "metadata": {
        "id": "tleaiT7LoTsy",
        "outputId": "664d13a1-b8b8-4dc4-a787-745a2fbeb832",
        "colab": {
          "base_uri": "https://localhost:8080/"
        }
      },
      "source": [
        "data.insert(3, 'Ones', 1)   # adding x0 \n",
        "\n",
        "print('data \\n' , data.head(5))"
      ],
      "execution_count": 64,
      "outputs": [
        {
          "output_type": "stream",
          "text": [
            "data \n",
            "      Test 1   Test 2  Accepted  Ones\n",
            "0  0.051267  0.69956         1     1\n",
            "1 -0.092742  0.68494         1     1\n",
            "2 -0.213710  0.69225         1     1\n",
            "3 -0.375000  0.50219         1     1\n",
            "4 -0.513250  0.46564         1     1\n"
          ],
          "name": "stdout"
        }
      ]
    },
    {
      "cell_type": "code",
      "metadata": {
        "id": "OEKC7GA-oTvs"
      },
      "source": [
        "degree = 5\n"
      ],
      "execution_count": 65,
      "outputs": []
    },
    {
      "cell_type": "code",
      "metadata": {
        "id": "kYcLJfUvoTy1"
      },
      "source": [
        "# Polynomial Function\n",
        "for i in range(1, degree): # 1,2,3,4\n",
        "    for j in range(0, i):  # 0 , 1 , 2 ,2\n",
        "        data['F' + str(i) + str(j)] = np.power(x1, i-j) * np.power(x2, j) # i=3 , j=2\n"
      ],
      "execution_count": 66,
      "outputs": []
    },
    {
      "cell_type": "code",
      "metadata": {
        "id": "4hC_TTh6oT2R",
        "outputId": "2f9ecebe-9ca0-42ac-e007-b1cbd5f1bd83",
        "colab": {
          "base_uri": "https://localhost:8080/"
        }
      },
      "source": [
        "data.drop('Test 1', axis=1, inplace=True)\n",
        "data.drop('Test 2', axis=1, inplace=True)\n",
        "\n",
        "print('data \\n' , data.head(5))"
      ],
      "execution_count": 67,
      "outputs": [
        {
          "output_type": "stream",
          "text": [
            "data \n",
            "    Accepted  Ones       F10       F20  ...       F40       F41       F42       F43\n",
            "0         1     1  0.051267  0.002628  ...  0.000007  0.000094  0.001286  0.017551\n",
            "1         1     1 -0.092742  0.008601  ...  0.000074 -0.000546  0.004035 -0.029801\n",
            "2         1     1 -0.213710  0.045672  ...  0.002086 -0.006757  0.021886 -0.070895\n",
            "3         1     1 -0.375000  0.140625  ...  0.019775 -0.026483  0.035465 -0.047494\n",
            "4         1     1 -0.513250  0.263426  ...  0.069393 -0.062956  0.057116 -0.051818\n",
            "\n",
            "[5 rows x 12 columns]\n"
          ],
          "name": "stdout"
        }
      ]
    },
    {
      "cell_type": "code",
      "metadata": {
        "id": "7wEYlCysoT5T"
      },
      "source": [
        "def sigmoid(z):\n",
        "    return 1 / (1 + np.exp(-z))\n"
      ],
      "execution_count": 68,
      "outputs": []
    },
    {
      "cell_type": "code",
      "metadata": {
        "id": "g2djSsNzpYt4"
      },
      "source": [
        "def costReg(theta, X, y, lr ):\n",
        "    \n",
        "    theta = np.matrix(theta)\n",
        "    X = np.matrix(X)\n",
        "    y = np.matrix(y)\n",
        "    \n",
        "    first = np.multiply(-y, np.log(sigmoid(X * theta.T)))\n",
        "    second = np.multiply((1 - y), np.log(1 - sigmoid(X * theta.T)))\n",
        "    \n",
        "    reg = (lr / 2 * len(X)) * np.sum(np.power(theta[:,1:theta.shape[1]], 2))\n",
        "    \n",
        "     \n",
        "    return np.sum(first - second) / (len(X)) + reg\n",
        "\n"
      ],
      "execution_count": 70,
      "outputs": []
    },
    {
      "cell_type": "code",
      "metadata": {
        "id": "g-jXUIP9pYxG"
      },
      "source": [
        "def gradientReg(theta, X, y, learningRate):\n",
        "    theta = np.matrix(theta)\n",
        "    X = np.matrix(X)\n",
        "    y = np.matrix(y)\n",
        "    \n",
        "    parameters = int(theta.ravel().shape[1])\n",
        "    grad = np.zeros(parameters)\n",
        "    \n",
        "    error = sigmoid(X * theta.T) - y\n",
        "    \n",
        "    for i in range(parameters):\n",
        "        term = np.multiply(error, X[:,i])\n",
        "        \n",
        "        if (i == 0):\n",
        "            grad[i] = np.sum(term) / len(X)\n",
        "        else:\n",
        "            grad[i] =(np.sum(term)/len(X))+((learningRate/len(X))*theta[:,i])\n",
        "    \n",
        "    return grad"
      ],
      "execution_count": 71,
      "outputs": []
    },
    {
      "cell_type": "code",
      "metadata": {
        "id": "TN6vNDIHpY0G",
        "outputId": "72d8c3a4-c03f-4572-fc93-cd7ae2bba29a",
        "colab": {
          "base_uri": "https://localhost:8080/"
        }
      },
      "source": [
        "# set X and y (remember from above that we moved the label to column 0)\n",
        "cols = data.shape[1]\n",
        "print('cols = ' , cols)"
      ],
      "execution_count": 72,
      "outputs": [
        {
          "output_type": "stream",
          "text": [
            "cols =  12\n"
          ],
          "name": "stdout"
        }
      ]
    },
    {
      "cell_type": "code",
      "metadata": {
        "id": "KTh_UNyIpY51"
      },
      "source": [
        "X2 = data.iloc[:,1:cols]\n",
        "\n",
        "y2 = data.iloc[:,0:1]\n"
      ],
      "execution_count": 73,
      "outputs": []
    },
    {
      "cell_type": "code",
      "metadata": {
        "id": "zSfM3CW9pZI3"
      },
      "source": [
        "# convert to numpy arrays and initalize the parameter array theta\n",
        "X2 = np.array(X2.values)\n",
        "y2 = np.array(y2.values)\n",
        "theta2 = np.zeros(X2.shape[1])"
      ],
      "execution_count": 74,
      "outputs": []
    },
    {
      "cell_type": "code",
      "metadata": {
        "id": "M2ZWyUhWpY3y",
        "outputId": "110b432f-a04d-42b9-d093-b21dd7d0eec0",
        "colab": {
          "base_uri": "https://localhost:8080/"
        }
      },
      "source": [
        "learningRate = 0.001\n",
        "rcost = costReg(theta2, X2, y2, learningRate)\n",
        "print('regularized cost = ' , rcost)\n"
      ],
      "execution_count": 77,
      "outputs": [
        {
          "output_type": "stream",
          "text": [
            "regularized cost =  0.6931471805599454\n"
          ],
          "name": "stdout"
        }
      ]
    },
    {
      "cell_type": "code",
      "metadata": {
        "id": "1FAV6WVmqZDO",
        "outputId": "bc731fd1-d2fe-4f23-814e-383fe85fad21",
        "colab": {
          "base_uri": "https://localhost:8080/"
        }
      },
      "source": [
        "result = opt.fmin_tnc(func=costReg, x0=theta2, fprime=gradientReg,\n",
        "                      args=(X2, y2, learningRate))\n",
        "print( 'result = ' , result )"
      ],
      "execution_count": 78,
      "outputs": [
        {
          "output_type": "stream",
          "text": [
            "result =  (array([ 0.09572584,  0.07567703, -0.29235584, -0.18331214,  0.09737016,\n",
            "       -0.03281042, -0.15411369, -0.21744134,  0.00977285, -0.2520869 ,\n",
            "       -0.01853112]), 88, 1)\n"
          ],
          "name": "stdout"
        }
      ]
    },
    {
      "cell_type": "code",
      "metadata": {
        "id": "0zr1M1ajqfGW"
      },
      "source": [
        "def predict(theta, X):\n",
        "    probability = sigmoid(X * theta.T)\n",
        "    return [1 if x >= 0.5 else 0 for x in probability]\n"
      ],
      "execution_count": 79,
      "outputs": []
    },
    {
      "cell_type": "code",
      "metadata": {
        "id": "GqQJ6j3hqhiJ",
        "outputId": "2fbe30c2-f8f7-4506-9fc0-c62cc62783c1",
        "colab": {
          "base_uri": "https://localhost:8080/"
        }
      },
      "source": [
        "theta_min = np.matrix(result[0])\n",
        "predictions = predict(theta_min, X2)\n",
        "correct = [1 if ((a == 1 and b == 1) or (a == 0 and b == 0)) else 0 for (a, b) in zip(predictions, y2)]\n",
        "accuracy = (sum(map(int, correct)) % len(correct))\n",
        "print ('accuracy = {0}%'.format(accuracy))\n"
      ],
      "execution_count": 80,
      "outputs": [
        {
          "output_type": "stream",
          "text": [
            "accuracy = 80%\n"
          ],
          "name": "stdout"
        }
      ]
    }
  ]
}