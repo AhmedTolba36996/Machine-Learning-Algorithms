{
  "nbformat": 4,
  "nbformat_minor": 0,
  "metadata": {
    "colab": {
      "name": "Neural Network.ipynb",
      "provenance": [],
      "collapsed_sections": []
    },
    "kernelspec": {
      "name": "python3",
      "display_name": "Python 3"
    },
    "accelerator": "GPU"
  },
  "cells": [
    {
      "cell_type": "code",
      "metadata": {
        "id": "o91OCZCtAjhP"
      },
      "source": [
        "import numpy as np\n"
      ],
      "execution_count": 16,
      "outputs": []
    },
    {
      "cell_type": "code",
      "metadata": {
        "id": "cqQUhS3HAjka"
      },
      "source": [
        "def sigmoid(x):\n",
        "    return 1.0/(1+ np.exp(-x))"
      ],
      "execution_count": 17,
      "outputs": []
    },
    {
      "cell_type": "code",
      "metadata": {
        "id": "pWy3BePEAjnA"
      },
      "source": [
        "def sigmoid_derivative(x):\n",
        "    return x * (1.0 - x)"
      ],
      "execution_count": 18,
      "outputs": []
    },
    {
      "cell_type": "code",
      "metadata": {
        "id": "Odv37OaCAjqR"
      },
      "source": [
        "neuron = 4\n",
        "class NeuralNetwork:\n",
        "    def __init__(self, x, y):\n",
        "        self.input      = x\n",
        "#        print('inputs \\n' , self.input)\n",
        "#        print()\n",
        "        self.weights1   = np.random.rand(self.input.shape[1],neuron) \n",
        "#        print('weights1 \\n',self.weights1)\n",
        "#        print()\n",
        "        self.weights2   = np.random.rand(neuron,1)                 \n",
        "#        print('weights2 \\n',self.weights2)\n",
        "#        print()\n",
        "        self.y          = y\n",
        "#        print('y \\n',self.y)\n",
        "#        print()\n",
        "        self.output     = np.zeros(self.y.shape) # y hat\n",
        "#        print('output \\n',self.output)\n",
        "#        print()\n",
        "        \n",
        "    def feedforward(self):\n",
        "        self.layer1 = sigmoid(np.dot(self.input, self.weights1))\n",
        "#        print('layer 1 \\n',self.layer1)\n",
        "#        print()        \n",
        "        self.output = sigmoid(np.dot(self.layer1, self.weights2))\n",
        "#        print('output \\n',self.output)\n",
        "#        print()\n",
        "        \n",
        "    def backprop(self):\n",
        "        # application of the chain rule to find derivative of the loss function with respect to weights2 and weights1\n",
        "        d_weights2 = np.dot(self.layer1.T, (2*(self.y - self.output) * sigmoid_derivative(self.output)))\n",
        "#        print('d_weights2  \\n',d_weights2  )\n",
        "#        print()        \n",
        "        d_weights1 = np.dot(self.input.T,\n",
        "                            (np.dot(2*(self.y - self.output) * sigmoid_derivative(self.output),\n",
        "                                    self.weights2.T) * sigmoid_derivative(self.layer1)))\n",
        "#        print('d_weights1 \\n',d_weights1)\n",
        "#        print()        \n",
        "\n",
        "        # update the weights with the derivative (slope) of the loss function\n",
        "        self.weights1 += d_weights1\n",
        "        self.weights2 += d_weights2\n"
      ],
      "execution_count": 19,
      "outputs": []
    },
    {
      "cell_type": "code",
      "metadata": {
        "id": "p15UKO2zAjtW"
      },
      "source": [
        "X = np.array([[0,0,1],\n",
        "              [0,1,1],\n",
        "              [1,0,1],\n",
        "              [1,1,1]])\n",
        "   \n",
        "y = np.array([[0],\n",
        "              [1],\n",
        "              [1],\n",
        "              [0]])\n",
        "   "
      ],
      "execution_count": 20,
      "outputs": []
    },
    {
      "cell_type": "code",
      "metadata": {
        "id": "8hk7rqHVAjwt"
      },
      "source": [
        "nn = NeuralNetwork(X,y)"
      ],
      "execution_count": 21,
      "outputs": []
    },
    {
      "cell_type": "code",
      "metadata": {
        "id": "xXxKNwqwAj0Z"
      },
      "source": [
        "iteration = 2000\n",
        "for i in range(iteration):\n",
        "    nn.feedforward()\n",
        "    nn.backprop()"
      ],
      "execution_count": 22,
      "outputs": []
    },
    {
      "cell_type": "code",
      "metadata": {
        "id": "WiZ_v5kKAj3o",
        "outputId": "d0e731cd-2ead-4e8a-b67f-de515ebaf295",
        "colab": {
          "base_uri": "https://localhost:8080/"
        }
      },
      "source": [
        "print(nn.output)\n"
      ],
      "execution_count": 23,
      "outputs": [
        {
          "output_type": "stream",
          "text": [
            "[[0.00824892]\n",
            " [0.97588824]\n",
            " [0.97670845]\n",
            " [0.02920044]]\n"
          ],
          "name": "stdout"
        }
      ]
    }
  ]
}